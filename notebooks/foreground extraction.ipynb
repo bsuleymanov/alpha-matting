{
 "cells": [
  {
   "cell_type": "code",
   "execution_count": 1,
   "metadata": {},
   "outputs": [],
   "source": [
    "from PIL import Image\n",
    "from pathlib import Path\n",
    "from collections.abc import Iterable\n",
    "import jpeg4py as jpeg\n",
    "import numpy as np\n",
    "from matplotlib import pyplot as plt\n",
    "import random\n",
    "import tqdm"
   ]
  },
  {
   "cell_type": "code",
   "execution_count": 2,
   "metadata": {},
   "outputs": [],
   "source": [
    "def path_to_str(paths):\n",
    "    if isinstance(paths, Iterable):\n",
    "        return list(map(str, paths))\n",
    "    else:\n",
    "        return str(paths)\n",
    "\n",
    "def mkdir_if_empty_or_not_exist(dir_name):\n",
    "    if (not dir_name.exists() or\n",
    "        next(dir_name.iterdir(), None) is None):\n",
    "        Path.mkdir(dir_name, parents=True, exist_ok=True)\n",
    "    else:\n",
    "        raise Exception\n",
    "\n",
    "def mkdir_if_empty_or_not_exist_wo_exception(dir_name):\n",
    "    if (not dir_name.exists() or\n",
    "        next(dir_name.iterdir(), None) is None):\n",
    "        Path.mkdir(dir_name, parents=True, exist_ok=True) "
   ]
  },
  {
   "cell_type": "code",
   "execution_count": 3,
   "metadata": {},
   "outputs": [],
   "source": [
    "data_dir = Path(\"../data/dataset_split/\")\n",
    "foreground_dir = Path(\"../data/foregrounds_split/\")\n",
    "\n",
    "mkdir_if_empty_or_not_exist(foreground_dir)"
   ]
  },
  {
   "cell_type": "code",
   "execution_count": 4,
   "metadata": {},
   "outputs": [],
   "source": [
    "matte_list = path_to_str(data_dir.rglob(\"*.png\"))\n",
    "image_list = [x[:-3]+\"jpg\" for x in matte_list]"
   ]
  },
  {
   "cell_type": "code",
   "execution_count": 5,
   "metadata": {
    "pycharm": {
     "name": "#%%\n"
    }
   },
   "outputs": [
    {
     "name": "stderr",
     "output_type": "stream",
     "text": [
      "100%|██████████| 19138/19138 [36:40<00:00,  8.70it/s]  \n"
     ]
    }
   ],
   "source": [
    "for i in tqdm.tqdm(range(len(image_list))):\n",
    "#for i in random.sample(list(range(len(image_list))), 20):\n",
    "    image = jpeg.JPEG(image_list[i]).decode()\n",
    "    matte = Image.open(matte_list[i])\n",
    "    if matte.mode == \"L\":\n",
    "        matte = np.array(matte)\n",
    "        matte = np.stack([matte, matte, matte], axis=2)\n",
    "    elif matte.mode == \"RGBA\":\n",
    "        matte = np.array(matte)\n",
    "        matte = matte[:, :, :3]\n",
    "    else:\n",
    "        matte = np.array(matte)\n",
    "    #print(image.shape, matte.shape)\n",
    "    image = image / 255.\n",
    "    matte = matte / 255.\n",
    "    composition = (image * matte * 255.).astype(np.uint8)\n",
    "    save_dir = str(foreground_dir) + '/' + '/'.join(image_list[i].split('/')[3:-1])\n",
    "    Path.mkdir(Path(save_dir), exist_ok=True, parents=True)\n",
    "    save_path = save_dir + \"/\" + image_list[i].split('/')[-1][:-4] + \"_foreground.jpg\"\n",
    "    Image.fromarray(composition).save(save_path, \"JPEG\")"
   ]
  },
  {
   "cell_type": "code",
   "execution_count": null,
   "outputs": [],
   "source": [],
   "metadata": {
    "collapsed": false,
    "pycharm": {
     "name": "#%%\n"
    }
   }
  }
 ],
 "metadata": {
  "kernelspec": {
   "display_name": "Python 3",
   "language": "python",
   "name": "python3"
  },
  "language_info": {
   "codemirror_mode": {
    "name": "ipython",
    "version": 3
   },
   "file_extension": ".py",
   "mimetype": "text/x-python",
   "name": "python",
   "nbconvert_exporter": "python",
   "pygments_lexer": "ipython3",
   "version": "3.7.10"
  }
 },
 "nbformat": 4,
 "nbformat_minor": 4
}