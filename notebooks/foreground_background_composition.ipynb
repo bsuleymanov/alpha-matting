{
 "cells": [
  {
   "cell_type": "code",
   "execution_count": 3,
   "metadata": {
    "collapsed": true
   },
   "outputs": [],
   "source": [
    "# Extract foregrounds\n",
    "# Select backgrounds\n",
    "# Compose each foreground with each background\n",
    "# or with randomly sampled N backgrounds"
   ]
  },
  {
   "cell_type": "code",
   "execution_count": 4,
   "outputs": [],
   "source": [
    "import jpeg4py as jpeg\n",
    "from matplotlib import pyplot as plt\n",
    "import json\n",
    "from pathlib import Path\n",
    "import random\n",
    "%matplotlib qt"
   ],
   "metadata": {
    "collapsed": false,
    "pycharm": {
     "name": "#%%\n"
    }
   }
  },
  {
   "cell_type": "code",
   "execution_count": 5,
   "outputs": [],
   "source": [
    "coco_dir = Path(\"../../../../Новый том1/2021/alpha-matting-datasets/coco\")\n",
    "\n",
    "with open(coco_dir / \"annotations\" / \"instances_val2017.json\") as f:\n",
    "    coco_instances = json.load(f)"
   ],
   "metadata": {
    "collapsed": false,
    "pycharm": {
     "name": "#%%\n"
    }
   }
  },
  {
   "cell_type": "code",
   "execution_count": 6,
   "outputs": [
    {
     "data": {
      "text/plain": "dict_keys(['info', 'licenses', 'images', 'annotations', 'categories'])"
     },
     "execution_count": 6,
     "metadata": {},
     "output_type": "execute_result"
    }
   ],
   "source": [
    "coco_instances.keys()"
   ],
   "metadata": {
    "collapsed": false,
    "pycharm": {
     "name": "#%%\n"
    }
   }
  },
  {
   "cell_type": "code",
   "execution_count": 7,
   "outputs": [
    {
     "data": {
      "text/plain": "{'license': 4,\n 'file_name': '000000397133.jpg',\n 'coco_url': 'http://images.cocodataset.org/val2017/000000397133.jpg',\n 'height': 427,\n 'width': 640,\n 'date_captured': '2013-11-14 17:02:52',\n 'flickr_url': 'http://farm7.staticflickr.com/6116/6255196340_da26cf2c9e_z.jpg',\n 'id': 397133}"
     },
     "execution_count": 7,
     "metadata": {},
     "output_type": "execute_result"
    }
   ],
   "source": [
    "coco_instances[\"images\"][0]"
   ],
   "metadata": {
    "collapsed": false,
    "pycharm": {
     "name": "#%%\n"
    }
   }
  },
  {
   "cell_type": "code",
   "execution_count": 8,
   "outputs": [
    {
     "data": {
      "text/plain": "dict_keys(['segmentation', 'area', 'iscrowd', 'image_id', 'bbox', 'category_id', 'id'])"
     },
     "execution_count": 8,
     "metadata": {},
     "output_type": "execute_result"
    }
   ],
   "source": [
    "coco_instances[\"annotations\"][0].keys()"
   ],
   "metadata": {
    "collapsed": false,
    "pycharm": {
     "name": "#%%\n"
    }
   }
  },
  {
   "cell_type": "code",
   "execution_count": 9,
   "outputs": [
    {
     "data": {
      "text/plain": "[{'supercategory': 'person', 'id': 1, 'name': 'person'},\n {'supercategory': 'vehicle', 'id': 2, 'name': 'bicycle'},\n {'supercategory': 'vehicle', 'id': 3, 'name': 'car'},\n {'supercategory': 'vehicle', 'id': 4, 'name': 'motorcycle'},\n {'supercategory': 'vehicle', 'id': 5, 'name': 'airplane'},\n {'supercategory': 'vehicle', 'id': 6, 'name': 'bus'},\n {'supercategory': 'vehicle', 'id': 7, 'name': 'train'},\n {'supercategory': 'vehicle', 'id': 8, 'name': 'truck'},\n {'supercategory': 'vehicle', 'id': 9, 'name': 'boat'},\n {'supercategory': 'outdoor', 'id': 10, 'name': 'traffic light'},\n {'supercategory': 'outdoor', 'id': 11, 'name': 'fire hydrant'},\n {'supercategory': 'outdoor', 'id': 13, 'name': 'stop sign'},\n {'supercategory': 'outdoor', 'id': 14, 'name': 'parking meter'},\n {'supercategory': 'outdoor', 'id': 15, 'name': 'bench'},\n {'supercategory': 'animal', 'id': 16, 'name': 'bird'},\n {'supercategory': 'animal', 'id': 17, 'name': 'cat'},\n {'supercategory': 'animal', 'id': 18, 'name': 'dog'},\n {'supercategory': 'animal', 'id': 19, 'name': 'horse'},\n {'supercategory': 'animal', 'id': 20, 'name': 'sheep'},\n {'supercategory': 'animal', 'id': 21, 'name': 'cow'},\n {'supercategory': 'animal', 'id': 22, 'name': 'elephant'},\n {'supercategory': 'animal', 'id': 23, 'name': 'bear'},\n {'supercategory': 'animal', 'id': 24, 'name': 'zebra'},\n {'supercategory': 'animal', 'id': 25, 'name': 'giraffe'},\n {'supercategory': 'accessory', 'id': 27, 'name': 'backpack'},\n {'supercategory': 'accessory', 'id': 28, 'name': 'umbrella'},\n {'supercategory': 'accessory', 'id': 31, 'name': 'handbag'},\n {'supercategory': 'accessory', 'id': 32, 'name': 'tie'},\n {'supercategory': 'accessory', 'id': 33, 'name': 'suitcase'},\n {'supercategory': 'sports', 'id': 34, 'name': 'frisbee'},\n {'supercategory': 'sports', 'id': 35, 'name': 'skis'},\n {'supercategory': 'sports', 'id': 36, 'name': 'snowboard'},\n {'supercategory': 'sports', 'id': 37, 'name': 'sports ball'},\n {'supercategory': 'sports', 'id': 38, 'name': 'kite'},\n {'supercategory': 'sports', 'id': 39, 'name': 'baseball bat'},\n {'supercategory': 'sports', 'id': 40, 'name': 'baseball glove'},\n {'supercategory': 'sports', 'id': 41, 'name': 'skateboard'},\n {'supercategory': 'sports', 'id': 42, 'name': 'surfboard'},\n {'supercategory': 'sports', 'id': 43, 'name': 'tennis racket'},\n {'supercategory': 'kitchen', 'id': 44, 'name': 'bottle'},\n {'supercategory': 'kitchen', 'id': 46, 'name': 'wine glass'},\n {'supercategory': 'kitchen', 'id': 47, 'name': 'cup'},\n {'supercategory': 'kitchen', 'id': 48, 'name': 'fork'},\n {'supercategory': 'kitchen', 'id': 49, 'name': 'knife'},\n {'supercategory': 'kitchen', 'id': 50, 'name': 'spoon'},\n {'supercategory': 'kitchen', 'id': 51, 'name': 'bowl'},\n {'supercategory': 'food', 'id': 52, 'name': 'banana'},\n {'supercategory': 'food', 'id': 53, 'name': 'apple'},\n {'supercategory': 'food', 'id': 54, 'name': 'sandwich'},\n {'supercategory': 'food', 'id': 55, 'name': 'orange'},\n {'supercategory': 'food', 'id': 56, 'name': 'broccoli'},\n {'supercategory': 'food', 'id': 57, 'name': 'carrot'},\n {'supercategory': 'food', 'id': 58, 'name': 'hot dog'},\n {'supercategory': 'food', 'id': 59, 'name': 'pizza'},\n {'supercategory': 'food', 'id': 60, 'name': 'donut'},\n {'supercategory': 'food', 'id': 61, 'name': 'cake'},\n {'supercategory': 'furniture', 'id': 62, 'name': 'chair'},\n {'supercategory': 'furniture', 'id': 63, 'name': 'couch'},\n {'supercategory': 'furniture', 'id': 64, 'name': 'potted plant'},\n {'supercategory': 'furniture', 'id': 65, 'name': 'bed'},\n {'supercategory': 'furniture', 'id': 67, 'name': 'dining table'},\n {'supercategory': 'furniture', 'id': 70, 'name': 'toilet'},\n {'supercategory': 'electronic', 'id': 72, 'name': 'tv'},\n {'supercategory': 'electronic', 'id': 73, 'name': 'laptop'},\n {'supercategory': 'electronic', 'id': 74, 'name': 'mouse'},\n {'supercategory': 'electronic', 'id': 75, 'name': 'remote'},\n {'supercategory': 'electronic', 'id': 76, 'name': 'keyboard'},\n {'supercategory': 'electronic', 'id': 77, 'name': 'cell phone'},\n {'supercategory': 'appliance', 'id': 78, 'name': 'microwave'},\n {'supercategory': 'appliance', 'id': 79, 'name': 'oven'},\n {'supercategory': 'appliance', 'id': 80, 'name': 'toaster'},\n {'supercategory': 'appliance', 'id': 81, 'name': 'sink'},\n {'supercategory': 'appliance', 'id': 82, 'name': 'refrigerator'},\n {'supercategory': 'indoor', 'id': 84, 'name': 'book'},\n {'supercategory': 'indoor', 'id': 85, 'name': 'clock'},\n {'supercategory': 'indoor', 'id': 86, 'name': 'vase'},\n {'supercategory': 'indoor', 'id': 87, 'name': 'scissors'},\n {'supercategory': 'indoor', 'id': 88, 'name': 'teddy bear'},\n {'supercategory': 'indoor', 'id': 89, 'name': 'hair drier'},\n {'supercategory': 'indoor', 'id': 90, 'name': 'toothbrush'}]"
     },
     "execution_count": 9,
     "metadata": {},
     "output_type": "execute_result"
    }
   ],
   "source": [
    "coco_instances['categories']"
   ],
   "metadata": {
    "collapsed": false,
    "pycharm": {
     "name": "#%%\n"
    }
   }
  },
  {
   "cell_type": "code",
   "execution_count": 10,
   "outputs": [],
   "source": [
    "random_images = random.sample(coco_instances[\"images\"], 10)"
   ],
   "metadata": {
    "collapsed": false,
    "pycharm": {
     "name": "#%%\n"
    }
   }
  },
  {
   "cell_type": "code",
   "execution_count": 11,
   "outputs": [
    {
     "data": {
      "text/plain": "[{'license': 1,\n  'file_name': '000000025986.jpg',\n  'coco_url': 'http://images.cocodataset.org/val2017/000000025986.jpg',\n  'height': 480,\n  'width': 640,\n  'date_captured': '2013-11-25 14:29:12',\n  'flickr_url': 'http://farm8.staticflickr.com/7318/9563604417_08503a1e8c_z.jpg',\n  'id': 25986},\n {'license': 3,\n  'file_name': '000000395343.jpg',\n  'coco_url': 'http://images.cocodataset.org/val2017/000000395343.jpg',\n  'height': 480,\n  'width': 640,\n  'date_captured': '2013-11-24 19:26:32',\n  'flickr_url': 'http://farm4.staticflickr.com/3564/3596696790_269d0d976b_z.jpg',\n  'id': 395343},\n {'license': 1,\n  'file_name': '000000167572.jpg',\n  'coco_url': 'http://images.cocodataset.org/val2017/000000167572.jpg',\n  'height': 425,\n  'width': 640,\n  'date_captured': '2013-11-20 15:37:31',\n  'flickr_url': 'http://farm6.staticflickr.com/5181/5640302114_8a36987a52_z.jpg',\n  'id': 167572},\n {'license': 4,\n  'file_name': '000000319935.jpg',\n  'coco_url': 'http://images.cocodataset.org/val2017/000000319935.jpg',\n  'height': 398,\n  'width': 640,\n  'date_captured': '2013-11-21 19:52:28',\n  'flickr_url': 'http://farm4.staticflickr.com/3352/3542980344_a845a4cb2c_z.jpg',\n  'id': 319935},\n {'license': 1,\n  'file_name': '000000490936.jpg',\n  'coco_url': 'http://images.cocodataset.org/val2017/000000490936.jpg',\n  'height': 640,\n  'width': 480,\n  'date_captured': '2013-11-15 17:49:58',\n  'flickr_url': 'http://farm8.staticflickr.com/7321/8725879741_7a306fb719_z.jpg',\n  'id': 490936},\n {'license': 1,\n  'file_name': '000000373353.jpg',\n  'coco_url': 'http://images.cocodataset.org/val2017/000000373353.jpg',\n  'height': 428,\n  'width': 640,\n  'date_captured': '2013-11-16 23:15:48',\n  'flickr_url': 'http://farm9.staticflickr.com/8247/8508114297_56b58153d6_z.jpg',\n  'id': 373353},\n {'license': 1,\n  'file_name': '000000031217.jpg',\n  'coco_url': 'http://images.cocodataset.org/val2017/000000031217.jpg',\n  'height': 426,\n  'width': 640,\n  'date_captured': '2013-11-21 02:35:48',\n  'flickr_url': 'http://farm9.staticflickr.com/8123/8655428554_575a1c878c_z.jpg',\n  'id': 31217},\n {'license': 1,\n  'file_name': '000000360960.jpg',\n  'coco_url': 'http://images.cocodataset.org/val2017/000000360960.jpg',\n  'height': 640,\n  'width': 426,\n  'date_captured': '2013-11-18 08:55:02',\n  'flickr_url': 'http://farm9.staticflickr.com/8222/8386917555_5bffa5b154_z.jpg',\n  'id': 360960},\n {'license': 2,\n  'file_name': '000000575970.jpg',\n  'coco_url': 'http://images.cocodataset.org/val2017/000000575970.jpg',\n  'height': 480,\n  'width': 640,\n  'date_captured': '2013-11-14 20:54:29',\n  'flickr_url': 'http://farm9.staticflickr.com/8432/7721518318_c0f582792d_z.jpg',\n  'id': 575970},\n {'license': 4,\n  'file_name': '000000097679.jpg',\n  'coco_url': 'http://images.cocodataset.org/val2017/000000097679.jpg',\n  'height': 480,\n  'width': 640,\n  'date_captured': '2013-11-15 11:37:24',\n  'flickr_url': 'http://farm3.staticflickr.com/2215/2727641554_ea1cca26c2_z.jpg',\n  'id': 97679}]"
     },
     "execution_count": 11,
     "metadata": {},
     "output_type": "execute_result"
    }
   ],
   "source": [
    "random_images"
   ],
   "metadata": {
    "collapsed": false,
    "pycharm": {
     "name": "#%%\n"
    }
   }
  },
  {
   "cell_type": "code",
   "execution_count": 19,
   "outputs": [],
   "source": [],
   "metadata": {
    "collapsed": false,
    "pycharm": {
     "name": "#%%\n"
    }
   }
  },
  {
   "cell_type": "code",
   "execution_count": 15,
   "outputs": [],
   "source": [
    "coco_img_dir = coco_dir / \"images\" / \"train2017\"\n",
    "img_list = list(map(str, coco_img_dir.rglob(\"*.jpg\")))\n",
    "background_list = []\n",
    "\n",
    "fig = plt.figure()\n",
    "closed = False\n",
    "\n",
    "def handle_close(evt):\n",
    "    global closed\n",
    "    closed = True\n",
    "\n",
    "def waitforbuttonpress(time):\n",
    "    to_add = plt.waitforbuttonpress(time)\n",
    "    if to_add is None:\n",
    "        if closed:\n",
    "            return \"kek\"\n",
    "    return to_add\n",
    "\n",
    "time = 20\n",
    "fig.canvas.mpl_connect('close_event', handle_close)\n",
    "for i, img_name in enumerate(img_list):\n",
    "    img = jpeg.JPEG(img_name).decode()\n",
    "    plt.title(img_name.split('/')[-1])\n",
    "    plt.imshow(img)\n",
    "    plt.draw()\n",
    "    to_add = waitforbuttonpress(time)\n",
    "    if to_add == \"kek\":\n",
    "        break\n",
    "    if not to_add:\n",
    "        background_list.append(img_name.split('/')[-1])"
   ],
   "metadata": {
    "collapsed": false,
    "pycharm": {
     "name": "#%%\n"
    }
   }
  },
  {
   "cell_type": "code",
   "execution_count": 16,
   "outputs": [
    {
     "data": {
      "text/plain": "['000000000025.jpg',\n '000000000030.jpg',\n '000000000034.jpg',\n '000000000064.jpg',\n '000000000071.jpg',\n '000000000072.jpg',\n '000000000078.jpg',\n '000000000089.jpg',\n '000000000094.jpg',\n '000000000109.jpg',\n '000000000133.jpg',\n '000000281567.jpg',\n '000000281578.jpg',\n '000000281581.jpg',\n '000000281582.jpg',\n '000000281599.jpg',\n '000000281602.jpg',\n '000000281609.jpg',\n '000000281625.jpg',\n '000000281631.jpg',\n '000000281634.jpg',\n '000000281649.jpg',\n '000000281652.jpg',\n '000000166637.jpg']"
     },
     "execution_count": 16,
     "metadata": {},
     "output_type": "execute_result"
    }
   ],
   "source": [
    "background_list"
   ],
   "metadata": {
    "collapsed": false,
    "pycharm": {
     "name": "#%%\n"
    }
   }
  },
  {
   "cell_type": "code",
   "execution_count": 17,
   "outputs": [
    {
     "name": "stdout",
     "output_type": "stream",
     "text": [
      "../../../../Новый том1/2021/alpha-matting-datasets/coco/images/train2017/000000166645.jpg 63\n"
     ]
    }
   ],
   "source": [
    "# stopped at\n",
    "print(img_name, i)"
   ],
   "metadata": {
    "collapsed": false,
    "pycharm": {
     "name": "#%%\n"
    }
   }
  },
  {
   "cell_type": "code",
   "execution_count": null,
   "outputs": [],
   "source": [],
   "metadata": {
    "collapsed": false,
    "pycharm": {
     "name": "#%%\n"
    }
   }
  }
 ],
 "metadata": {
  "kernelspec": {
   "display_name": "Python 3",
   "language": "python",
   "name": "python3"
  },
  "language_info": {
   "codemirror_mode": {
    "name": "ipython",
    "version": 2
   },
   "file_extension": ".py",
   "mimetype": "text/x-python",
   "name": "python",
   "nbconvert_exporter": "python",
   "pygments_lexer": "ipython2",
   "version": "2.7.6"
  }
 },
 "nbformat": 4,
 "nbformat_minor": 0
}